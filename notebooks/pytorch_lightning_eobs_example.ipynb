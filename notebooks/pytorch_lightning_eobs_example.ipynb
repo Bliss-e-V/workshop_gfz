{
  "cells": [
    {
      "cell_type": "raw",
      "metadata": {
        "vscode": {
          "languageId": "raw"
        }
      },
      "source": [
        "# Self-Supervised Learning with PyTorch Lightning and E-OBS Data\n",
        "\n",
        "This notebook demonstrates how to use PyTorch Lightning for self-supervised learning with E-OBS precipitation data. We'll train two models:\n",
        "1. **Temporal Prediction**: Using past 7 days to predict the next day's precipitation\n",
        "2. **Masked Modeling**: Reconstructing masked spatial regions of precipitation maps\n",
        "\n",
        "PyTorch Lightning provides:\n",
        "- Automatic device management (CPU/GPU/MPS)\n",
        "- Better logging and metrics tracking\n",
        "- Easy checkpointing and early stopping\n",
        "- Built-in progress bars and training visualization\n",
        "- Simplified training loop management\n"
      ]
    },
    {
      "cell_type": "code",
      "execution_count": null,
      "metadata": {},
      "outputs": [],
      "source": [
        "import sys\n",
        "import os\n",
        "sys.path.append('../src')\n",
        "\n",
        "import torch\n",
        "import torch.nn as nn\n",
        "from torch.utils.data import DataLoader\n",
        "import numpy as np\n",
        "import matplotlib.pyplot as plt\n",
        "import xarray as xr\n",
        "import pytorch_lightning as L\n",
        "from pytorch_lightning.callbacks import EarlyStopping, ModelCheckpoint, LearningRateMonitor\n",
        "from pytorch_lightning.loggers import TensorBoardLogger\n",
        "\n",
        "from data_utils import (\n",
        "    EOBSDataLoader, \n",
        "    EOBSTemporalPredictionDataset, \n",
        "    EOBSMaskedModelingDataset,\n",
        "    get_device\n",
        ")\n",
        "from models import (\n",
        "    TemporalPredictionModel, \n",
        "    MaskedModelingModel, \n",
        "    TemporalPredictionLightningModule,\n",
        "    MaskedModelingLightningModule\n",
        ")\n",
        "\n",
        "print(\"🌍 E-OBS Self-Supervised Learning with PyTorch Lightning\")\n",
        "print(f\"PyTorch version: {torch.__version__}\")\n",
        "print(f\"PyTorch Lightning version: {L.__version__}\")\n",
        "\n",
        "# Detect best available device\n",
        "device = get_device()\n",
        "print(f\"Selected device: {device}\")\n"
      ]
    },
    {
      "cell_type": "raw",
      "metadata": {
        "vscode": {
          "languageId": "raw"
        }
      },
      "source": [
        "## 1. Load E-OBS Precipitation Data\n"
      ]
    },
    {
      "cell_type": "code",
      "execution_count": null,
      "metadata": {},
      "outputs": [],
      "source": [
        "# Load E-OBS data\n",
        "eobs_loader = EOBSDataLoader(data_dir=\"../src/data\")\n",
        "eobs_data = eobs_loader.load_all_data()\n",
        "\n",
        "# Get precipitation data\n",
        "if 'precipitation_mean' in eobs_data:\n",
        "    precip_data = eobs_data['precipitation_mean']\n",
        "    print(\"\\n📊 Precipitation Data Info:\")\n",
        "    eobs_loader.get_data_info(precip_data)\n",
        "else:\n",
        "    print(\"❌ Precipitation data not found. Please check data files.\")\n"
      ]
    },
    {
      "cell_type": "raw",
      "metadata": {
        "vscode": {
          "languageId": "raw"
        }
      },
      "source": [
        "## 2. Temporal Prediction with PyTorch Lightning\n"
      ]
    },
    {
      "cell_type": "code",
      "execution_count": null,
      "metadata": {},
      "outputs": [],
      "source": [
        "# Create temporal prediction dataset\n",
        "if 'precipitation_mean' in eobs_data:\n",
        "    temporal_dataset = EOBSTemporalPredictionDataset(\n",
        "        precipitation_data=precip_data,\n",
        "        sequence_length=7,  # Use past 7 days\n",
        "        prediction_horizon=1,  # Predict next 1 day\n",
        "        variable_name='rr',\n",
        "        spatial_crop_size=(64, 64),  # Crop to 64x64 patches\n",
        "        normalize=True,\n",
        "        log_transform=True  # Apply log(1+x) to precipitation\n",
        "    )\n",
        "    \n",
        "    # Create data loaders\n",
        "    train_size = int(0.8 * len(temporal_dataset))\n",
        "    val_size = len(temporal_dataset) - train_size\n",
        "    \n",
        "    train_dataset, val_dataset = torch.utils.data.random_split(\n",
        "        temporal_dataset, [train_size, val_size],\n",
        "        generator=torch.Generator().manual_seed(42)\n",
        "    )\n",
        "    \n",
        "    train_loader = DataLoader(train_dataset, batch_size=16, shuffle=True, num_workers=4)\n",
        "    val_loader = DataLoader(val_dataset, batch_size=16, shuffle=False, num_workers=4)\n",
        "    \n",
        "    print(f\"📈 Temporal Prediction Dataset created:\")\n",
        "    print(f\"   - Training samples: {len(train_dataset)}\")\n",
        "    print(f\"   - Validation samples: {len(val_dataset)}\")\n",
        "    print(f\"   - Batch size: 16\")\n",
        "else:\n",
        "    print(\"❌ Cannot create temporal dataset without precipitation data\")\n"
      ]
    },
    {
      "cell_type": "code",
      "execution_count": null,
      "metadata": {},
      "outputs": [],
      "source": [
        "# Create temporal prediction model and Lightning module\n",
        "if 'precipitation_mean' in eobs_data:\n",
        "    # Create the base model\n",
        "    temporal_model = TemporalPredictionModel(\n",
        "        input_channels=1,\n",
        "        hidden_channels=64,\n",
        "        num_layers=3,\n",
        "        sequence_length=7,\n",
        "        prediction_horizon=1,\n",
        "        spatial_size=(64, 64)\n",
        "    )\n",
        "    \n",
        "    # Wrap in Lightning module\n",
        "    temporal_lightning_model = TemporalPredictionLightningModule(\n",
        "        model=temporal_model,\n",
        "        learning_rate=1e-3,\n",
        "        weight_decay=1e-4\n",
        "    )\n",
        "    \n",
        "    print(\"\\n✅ Temporal prediction Lightning module created!\")\n",
        "else:\n",
        "    print(\"❌ Cannot create temporal model without precipitation data\")\n"
      ]
    },
    {
      "cell_type": "code",
      "execution_count": null,
      "metadata": {},
      "outputs": [],
      "source": [
        "# Setup Lightning trainer for temporal prediction\n",
        "if 'precipitation_mean' in eobs_data:\n",
        "    # Create callbacks\n",
        "    callbacks = [\n",
        "        EarlyStopping(\n",
        "            monitor='val_loss',\n",
        "            patience=10,\n",
        "            verbose=True,\n",
        "            mode='min'\n",
        "        ),\n",
        "        ModelCheckpoint(\n",
        "            monitor='val_loss',\n",
        "            dirpath='../src/runs/temporal_prediction_lightning/',\n",
        "            filename='best-checkpoint',\n",
        "            save_top_k=1,\n",
        "            mode='min'\n",
        "        ),\n",
        "        LearningRateMonitor(logging_interval='epoch')\n",
        "    ]\n",
        "    \n",
        "    # Create logger\n",
        "    logger = TensorBoardLogger(\n",
        "        save_dir='../src/runs/',\n",
        "        name='temporal_prediction_lightning'\n",
        "    )\n",
        "    \n",
        "    # Create trainer\n",
        "    temporal_trainer = L.Trainer(\n",
        "        max_epochs=20,  # Reduced for demo\n",
        "        accelerator='auto',\n",
        "        devices='auto',\n",
        "        logger=logger,\n",
        "        callbacks=callbacks,\n",
        "        log_every_n_steps=10,\n",
        "        val_check_interval=0.5,  # Validate twice per epoch\n",
        "        precision='16-mixed' if device != 'cpu' else '32-true',  # Mixed precision for faster training\n",
        "        gradient_clip_val=1.0  # Gradient clipping\n",
        "    )\n",
        "    \n",
        "    print(\"\\n🚀 Lightning trainer configured:\")\n",
        "    print(f\"   - Max epochs: 20\")\n",
        "    print(f\"   - Early stopping: patience=10\")\n",
        "    print(f\"   - Precision: {'16-mixed' if device != 'cpu' else '32-true'}\")\n",
        "    print(f\"   - Gradient clipping: 1.0\")\n",
        "else:\n",
        "    print(\"❌ Cannot setup trainer without precipitation data\")\n"
      ]
    }
  ],
  "metadata": {
    "language_info": {
      "name": "python"
    }
  },
  "nbformat": 4,
  "nbformat_minor": 2
}
